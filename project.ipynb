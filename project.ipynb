{
 "cells": [
  {
   "cell_type": "code",
   "execution_count": 1,
   "id": "3d365ec1",
   "metadata": {
    "execution": {
     "iopub.execute_input": "2025-04-12T09:38:37.363457Z",
     "iopub.status.busy": "2025-04-12T09:38:37.363176Z",
     "iopub.status.idle": "2025-04-12T09:38:47.197673Z",
     "shell.execute_reply": "2025-04-12T09:38:47.196956Z"
    },
    "papermill": {
     "duration": 9.842878,
     "end_time": "2025-04-12T09:38:47.199305",
     "exception": false,
     "start_time": "2025-04-12T09:38:37.356427",
     "status": "completed"
    },
    "tags": []
   },
   "outputs": [],
   "source": [
    "import torch\n",
    "import torch.nn as nn\n",
    "import torch.nn.functional as F\n",
    "import torchvision\n",
    "from torchvision import transforms\n",
    "from torch.utils.data import DataLoader, Subset\n",
    "import torch.optim as optim\n",
    "from tqdm import tqdm\n",
    "import wandb\n",
    "from kaggle_secrets import UserSecretsClient\n",
    "import torch.nn.utils.spectral_norm as spectral_norm\n",
    "import os\n",
    "import numpy as np\n",
    "user_secrets = UserSecretsClient()\n",
    "secret_value_0 = user_secrets.get_secret(\"wandbpass\")"
   ]
  },
  {
   "cell_type": "code",
   "execution_count": 2,
   "id": "abfeb36c",
   "metadata": {
    "execution": {
     "iopub.execute_input": "2025-04-12T09:38:47.210360Z",
     "iopub.status.busy": "2025-04-12T09:38:47.210080Z",
     "iopub.status.idle": "2025-04-12T09:38:47.254456Z",
     "shell.execute_reply": "2025-04-12T09:38:47.253521Z"
    },
    "papermill": {
     "duration": 0.051202,
     "end_time": "2025-04-12T09:38:47.255847",
     "exception": false,
     "start_time": "2025-04-12T09:38:47.204645",
     "status": "completed"
    },
    "tags": []
   },
   "outputs": [],
   "source": [
    "device = 'cuda' if torch.cuda.is_available() else 'cpu'"
   ]
  },
  {
   "cell_type": "code",
   "execution_count": 3,
   "id": "a2fb4d09",
   "metadata": {
    "execution": {
     "iopub.execute_input": "2025-04-12T09:38:47.266266Z",
     "iopub.status.busy": "2025-04-12T09:38:47.266000Z",
     "iopub.status.idle": "2025-04-12T09:38:51.855232Z",
     "shell.execute_reply": "2025-04-12T09:38:51.854276Z"
    },
    "papermill": {
     "duration": 4.595947,
     "end_time": "2025-04-12T09:38:51.856766",
     "exception": false,
     "start_time": "2025-04-12T09:38:47.260819",
     "status": "completed"
    },
    "tags": []
   },
   "outputs": [
    {
     "name": "stdout",
     "output_type": "stream",
     "text": [
      "Collecting torch-fidelity\r\n",
      "  Downloading torch_fidelity-0.3.0-py3-none-any.whl.metadata (2.0 kB)\r\n",
      "Requirement already satisfied: numpy in /usr/local/lib/python3.10/dist-packages (from torch-fidelity) (1.26.4)\r\n",
      "Requirement already satisfied: Pillow in /usr/local/lib/python3.10/dist-packages (from torch-fidelity) (11.0.0)\r\n",
      "Requirement already satisfied: scipy in /usr/local/lib/python3.10/dist-packages (from torch-fidelity) (1.13.1)\r\n",
      "Requirement already satisfied: torch in /usr/local/lib/python3.10/dist-packages (from torch-fidelity) (2.5.1+cu121)\r\n",
      "Requirement already satisfied: torchvision in /usr/local/lib/python3.10/dist-packages (from torch-fidelity) (0.20.1+cu121)\r\n",
      "Requirement already satisfied: tqdm in /usr/local/lib/python3.10/dist-packages (from torch-fidelity) (4.67.1)\r\n",
      "Requirement already satisfied: mkl_fft in /usr/local/lib/python3.10/dist-packages (from numpy->torch-fidelity) (1.3.8)\r\n",
      "Requirement already satisfied: mkl_random in /usr/local/lib/python3.10/dist-packages (from numpy->torch-fidelity) (1.2.4)\r\n",
      "Requirement already satisfied: mkl_umath in /usr/local/lib/python3.10/dist-packages (from numpy->torch-fidelity) (0.1.1)\r\n",
      "Requirement already satisfied: mkl in /usr/local/lib/python3.10/dist-packages (from numpy->torch-fidelity) (2025.0.1)\r\n",
      "Requirement already satisfied: tbb4py in /usr/local/lib/python3.10/dist-packages (from numpy->torch-fidelity) (2022.0.0)\r\n",
      "Requirement already satisfied: mkl-service in /usr/local/lib/python3.10/dist-packages (from numpy->torch-fidelity) (2.4.1)\r\n",
      "Requirement already satisfied: filelock in /usr/local/lib/python3.10/dist-packages (from torch->torch-fidelity) (3.17.0)\r\n",
      "Requirement already satisfied: typing-extensions>=4.8.0 in /usr/local/lib/python3.10/dist-packages (from torch->torch-fidelity) (4.12.2)\r\n",
      "Requirement already satisfied: networkx in /usr/local/lib/python3.10/dist-packages (from torch->torch-fidelity) (3.4.2)\r\n",
      "Requirement already satisfied: jinja2 in /usr/local/lib/python3.10/dist-packages (from torch->torch-fidelity) (3.1.4)\r\n",
      "Requirement already satisfied: fsspec in /usr/local/lib/python3.10/dist-packages (from torch->torch-fidelity) (2024.12.0)\r\n",
      "Requirement already satisfied: sympy==1.13.1 in /usr/local/lib/python3.10/dist-packages (from torch->torch-fidelity) (1.13.1)\r\n",
      "Requirement already satisfied: mpmath<1.4,>=1.1.0 in /usr/local/lib/python3.10/dist-packages (from sympy==1.13.1->torch->torch-fidelity) (1.3.0)\r\n",
      "Requirement already satisfied: MarkupSafe>=2.0 in /usr/local/lib/python3.10/dist-packages (from jinja2->torch->torch-fidelity) (3.0.2)\r\n",
      "Requirement already satisfied: intel-openmp>=2024 in /usr/local/lib/python3.10/dist-packages (from mkl->numpy->torch-fidelity) (2024.2.0)\r\n",
      "Requirement already satisfied: tbb==2022.* in /usr/local/lib/python3.10/dist-packages (from mkl->numpy->torch-fidelity) (2022.0.0)\r\n",
      "Requirement already satisfied: tcmlib==1.* in /usr/local/lib/python3.10/dist-packages (from tbb==2022.*->mkl->numpy->torch-fidelity) (1.2.0)\r\n",
      "Requirement already satisfied: intel-cmplr-lib-rt in /usr/local/lib/python3.10/dist-packages (from mkl_umath->numpy->torch-fidelity) (2024.2.0)\r\n",
      "Requirement already satisfied: intel-cmplr-lib-ur==2024.2.0 in /usr/local/lib/python3.10/dist-packages (from intel-openmp>=2024->mkl->numpy->torch-fidelity) (2024.2.0)\r\n",
      "Downloading torch_fidelity-0.3.0-py3-none-any.whl (37 kB)\r\n",
      "Installing collected packages: torch-fidelity\r\n",
      "Successfully installed torch-fidelity-0.3.0\r\n"
     ]
    }
   ],
   "source": [
    "!pip install torch-fidelity"
   ]
  },
  {
   "cell_type": "code",
   "execution_count": 4,
   "id": "b6c9905f",
   "metadata": {
    "execution": {
     "iopub.execute_input": "2025-04-12T09:38:51.868279Z",
     "iopub.status.busy": "2025-04-12T09:38:51.868019Z",
     "iopub.status.idle": "2025-04-12T09:38:53.109570Z",
     "shell.execute_reply": "2025-04-12T09:38:53.108609Z"
    },
    "papermill": {
     "duration": 1.248946,
     "end_time": "2025-04-12T09:38:53.111067",
     "exception": false,
     "start_time": "2025-04-12T09:38:51.862121",
     "status": "completed"
    },
    "tags": []
   },
   "outputs": [
    {
     "name": "stderr",
     "output_type": "stream",
     "text": [
      "\u001b[34m\u001b[1mwandb\u001b[0m: Using wandb-core as the SDK backend.  Please refer to https://wandb.me/wandb-core for more information.\n",
      "\u001b[34m\u001b[1mwandb\u001b[0m: Currently logged in as: \u001b[33mhexager\u001b[0m (\u001b[33mhexager-manipal\u001b[0m). Use \u001b[1m`wandb login --relogin`\u001b[0m to force relogin\n",
      "\u001b[34m\u001b[1mwandb\u001b[0m: \u001b[33mWARNING\u001b[0m If you're specifying your api key in code, ensure this code is not shared publicly.\n",
      "\u001b[34m\u001b[1mwandb\u001b[0m: \u001b[33mWARNING\u001b[0m Consider setting the WANDB_API_KEY environment variable, or running `wandb login` from the command line.\n",
      "\u001b[34m\u001b[1mwandb\u001b[0m: Appending key for api.wandb.ai to your netrc file: /root/.netrc\n"
     ]
    },
    {
     "data": {
      "text/plain": [
       "True"
      ]
     },
     "execution_count": 4,
     "metadata": {},
     "output_type": "execute_result"
    }
   ],
   "source": [
    "wandb.login(key=secret_value_0)"
   ]
  },
  {
   "cell_type": "code",
   "execution_count": 5,
   "id": "b9e50983",
   "metadata": {
    "execution": {
     "iopub.execute_input": "2025-04-12T09:38:53.130630Z",
     "iopub.status.busy": "2025-04-12T09:38:53.130242Z",
     "iopub.status.idle": "2025-04-12T09:38:53.142415Z",
     "shell.execute_reply": "2025-04-12T09:38:53.141644Z"
    },
    "papermill": {
     "duration": 0.026609,
     "end_time": "2025-04-12T09:38:53.143783",
     "exception": false,
     "start_time": "2025-04-12T09:38:53.117174",
     "status": "completed"
    },
    "tags": []
   },
   "outputs": [],
   "source": [
    "class BottleneckResBlock(nn.Module):\n",
    "    def __init__(self, in_channels, out_channels, downsample=False, upsample=False, spectral=False):\n",
    "        super(BottleneckResBlock, self).__init__()\n",
    "        mid_channels = in_channels // 4\n",
    "\n",
    "        self.learned_shortcut = (in_channels != out_channels) or downsample or upsample\n",
    "        self.downsample = downsample\n",
    "        self.upsample = upsample\n",
    "\n",
    "        def conv3x3(in_ch, out_ch):\n",
    "            conv = nn.Conv2d(in_ch, out_ch, 3, 1, 1)\n",
    "            return spectral_norm(conv) if spectral else conv\n",
    "\n",
    "        def conv1x1(in_ch, out_ch):\n",
    "            conv = nn.Conv2d(in_ch, out_ch, 1, 1, 0)\n",
    "            return spectral_norm(conv) if spectral else conv\n",
    "\n",
    "        self.conv1 = conv1x1(in_channels, mid_channels)\n",
    "        self.bn1 = nn.BatchNorm2d(mid_channels)\n",
    "        self.conv2 = conv3x3(mid_channels, mid_channels)\n",
    "        self.bn2 = nn.BatchNorm2d(mid_channels)\n",
    "        self.conv3 = conv1x1(mid_channels, out_channels)\n",
    "        self.bn3 = nn.BatchNorm2d(out_channels)\n",
    "\n",
    "        self.shortcut = nn.Sequential()\n",
    "        if self.learned_shortcut:\n",
    "            self.shortcut = conv1x1(in_channels, out_channels)\n",
    "\n",
    "    def forward(self, x):\n",
    "        out = self.conv1(F.relu(self.bn1(x)))\n",
    "        if self.upsample:\n",
    "            out = F.interpolate(out, scale_factor=2)\n",
    "        out = self.conv2(F.relu(self.bn2(out)))\n",
    "        out = self.conv3(F.relu(self.bn3(out)))\n",
    "        if self.downsample:\n",
    "            out = F.avg_pool2d(out, 2)\n",
    "\n",
    "        shortcut = self.shortcut(x)\n",
    "        if self.upsample:\n",
    "            shortcut = F.interpolate(shortcut, scale_factor=2)\n",
    "        if self.downsample:\n",
    "            shortcut = F.avg_pool2d(shortcut, 2)\n",
    "\n",
    "        return out + shortcut\n"
   ]
  },
  {
   "cell_type": "code",
   "execution_count": 6,
   "id": "829351c8",
   "metadata": {
    "execution": {
     "iopub.execute_input": "2025-04-12T09:38:53.156376Z",
     "iopub.status.busy": "2025-04-12T09:38:53.156030Z",
     "iopub.status.idle": "2025-04-12T09:38:53.162480Z",
     "shell.execute_reply": "2025-04-12T09:38:53.161721Z"
    },
    "papermill": {
     "duration": 0.014315,
     "end_time": "2025-04-12T09:38:53.164028",
     "exception": false,
     "start_time": "2025-04-12T09:38:53.149713",
     "status": "completed"
    },
    "tags": []
   },
   "outputs": [],
   "source": [
    "class ConditionalBatchNorm2d(nn.Module):\n",
    "    def __init__(self, num_features, embedding_dim):\n",
    "        super(ConditionalBatchNorm2d, self).__init__()\n",
    "        self.bn = nn.BatchNorm2d(num_features, affine=False)\n",
    "        self.gamma = nn.Linear(embedding_dim, num_features)\n",
    "        self.beta = nn.Linear(embedding_dim, num_features)\n",
    "\n",
    "    def forward(self, x, y_embed):\n",
    "        out = self.bn(x)\n",
    "        gamma = self.gamma(y_embed).unsqueeze(2).unsqueeze(3)\n",
    "        beta = self.beta(y_embed).unsqueeze(2).unsqueeze(3)\n",
    "        out = gamma * out + beta\n",
    "        return out\n"
   ]
  },
  {
   "cell_type": "code",
   "execution_count": 7,
   "id": "78fd4fc1",
   "metadata": {
    "execution": {
     "iopub.execute_input": "2025-04-12T09:38:53.176121Z",
     "iopub.status.busy": "2025-04-12T09:38:53.175761Z",
     "iopub.status.idle": "2025-04-12T09:38:53.184763Z",
     "shell.execute_reply": "2025-04-12T09:38:53.183933Z"
    },
    "papermill": {
     "duration": 0.016446,
     "end_time": "2025-04-12T09:38:53.186050",
     "exception": false,
     "start_time": "2025-04-12T09:38:53.169604",
     "status": "completed"
    },
    "tags": []
   },
   "outputs": [],
   "source": [
    "class ResBlockG(nn.Module):\n",
    "    def __init__(self, in_channels, out_channels, embedding_dim):\n",
    "        super(ResBlockG, self).__init__()\n",
    "        self.cbn1 = ConditionalBatchNorm2d(in_channels, embedding_dim)\n",
    "        self.cbn2 = ConditionalBatchNorm2d(out_channels, embedding_dim)\n",
    "        self.relu = nn.ReLU(inplace=False)\n",
    "        self.upsample = nn.Upsample(scale_factor=2)\n",
    "        self.conv1 = nn.utils.spectral_norm(nn.Conv2d(in_channels, out_channels, 3, padding=1))\n",
    "        self.conv2 = nn.utils.spectral_norm(nn.Conv2d(out_channels, out_channels, 3, padding=1))\n",
    "        self.shortcut = nn.Sequential()\n",
    "        if in_channels != out_channels:\n",
    "            self.shortcut = nn.Sequential(\n",
    "                nn.Upsample(scale_factor=2),\n",
    "                nn.utils.spectral_norm(nn.Conv2d(in_channels, out_channels, 1))\n",
    "            )\n",
    "        else:\n",
    "            self.shortcut = nn.Upsample(scale_factor=2)\n",
    "\n",
    "    def forward(self, x, y_embed):\n",
    "        out = self.cbn1(x, y_embed)\n",
    "        out = self.relu(out)\n",
    "        out = self.upsample(out)\n",
    "        out = self.conv1(out)\n",
    "        out = self.cbn2(out, y_embed)\n",
    "        out = self.relu(out)\n",
    "        out = self.conv2(out)\n",
    "        shortcut = self.shortcut(x)\n",
    "        return out + shortcut\n"
   ]
  },
  {
   "cell_type": "code",
   "execution_count": 8,
   "id": "0a667a2b",
   "metadata": {
    "execution": {
     "iopub.execute_input": "2025-04-12T09:38:53.198808Z",
     "iopub.status.busy": "2025-04-12T09:38:53.198458Z",
     "iopub.status.idle": "2025-04-12T09:38:53.208270Z",
     "shell.execute_reply": "2025-04-12T09:38:53.207303Z"
    },
    "papermill": {
     "duration": 0.01783,
     "end_time": "2025-04-12T09:38:53.209937",
     "exception": false,
     "start_time": "2025-04-12T09:38:53.192107",
     "status": "completed"
    },
    "tags": []
   },
   "outputs": [],
   "source": [
    "class BigGANDeepLiteGenerator(nn.Module):\n",
    "    def __init__(self, latent_dim, num_classes, embedding_dim=128, ch=64):\n",
    "        super(BigGANDeepLiteGenerator, self).__init__()\n",
    "        self.latent_dim = latent_dim\n",
    "        self.num_classes = num_classes\n",
    "        self.embedding_dim = embedding_dim\n",
    "        self.init_size = 4\n",
    "        self.project = nn.Linear(latent_dim, (ch * 16) * self.init_size * self.init_size)\n",
    "        self.label_embedding = nn.Embedding(num_classes, embedding_dim)\n",
    "\n",
    "        self.resblock1 = ResBlockG(ch * 16, ch * 8, embedding_dim)\n",
    "        self.resblock2 = ResBlockG(ch * 8, ch * 4, embedding_dim)\n",
    "        self.resblock3 = ResBlockG(ch * 4, ch * 2, embedding_dim)\n",
    "\n",
    "        self.bn = nn.BatchNorm2d(ch * 2)\n",
    "        self.relu = nn.ReLU(inplace=False)\n",
    "        self.final_conv = nn.utils.spectral_norm(nn.Conv2d(ch * 2, 3, 3, padding=1))\n",
    "        self.tanh = nn.Tanh()\n",
    "\n",
    "    def forward(self, z, labels):\n",
    "        y_embed = self.label_embedding(labels)\n",
    "        out = self.project(z).view(z.size(0), -1, self.init_size, self.init_size)\n",
    "\n",
    "        out = self.resblock1(out, y_embed)\n",
    "        out = self.resblock2(out, y_embed)\n",
    "        out = self.resblock3(out, y_embed)\n",
    "\n",
    "        out = self.relu(self.bn(out))\n",
    "        out = self.final_conv(out)\n",
    "        out = self.tanh(out)\n",
    "        return out\n"
   ]
  },
  {
   "cell_type": "code",
   "execution_count": 9,
   "id": "3e0b7a84",
   "metadata": {
    "execution": {
     "iopub.execute_input": "2025-04-12T09:38:53.224013Z",
     "iopub.status.busy": "2025-04-12T09:38:53.223668Z",
     "iopub.status.idle": "2025-04-12T09:38:53.233114Z",
     "shell.execute_reply": "2025-04-12T09:38:53.232211Z"
    },
    "papermill": {
     "duration": 0.017031,
     "end_time": "2025-04-12T09:38:53.234508",
     "exception": false,
     "start_time": "2025-04-12T09:38:53.217477",
     "status": "completed"
    },
    "tags": []
   },
   "outputs": [],
   "source": [
    "\n",
    "class ResBlockD(nn.Module):\n",
    "    def __init__(self, in_channels, out_channels, downsample=True):\n",
    "        super(ResBlockD, self).__init__()\n",
    "        self.downsample = downsample\n",
    "        self.learned_shortcut = (in_channels != out_channels) or downsample\n",
    "\n",
    "        self.conv1 = spectral_norm(nn.Conv2d(in_channels, out_channels, kernel_size=3, padding=1))\n",
    "        self.conv2 = spectral_norm(nn.Conv2d(out_channels, out_channels, kernel_size=3, padding=1))\n",
    "        self.activation = nn.ReLU(inplace=False)\n",
    "        self.avgpool = nn.AvgPool2d(2)\n",
    "\n",
    "        if self.learned_shortcut:\n",
    "            self.shortcut = spectral_norm(nn.Conv2d(in_channels, out_channels, kernel_size=1, padding=0))\n",
    "\n",
    "    def forward(self, x):\n",
    "        residual = x\n",
    "\n",
    "        out = self.activation(x)\n",
    "        out = self.conv1(out)\n",
    "        out = self.activation(out)\n",
    "        out = self.conv2(out)\n",
    "        if self.downsample:\n",
    "            out = self.avgpool(out)\n",
    "\n",
    "        if self.learned_shortcut:\n",
    "            residual = self.shortcut(residual)\n",
    "            if self.downsample:\n",
    "                residual = self.avgpool(residual)\n",
    "\n",
    "        return out + residual"
   ]
  },
  {
   "cell_type": "code",
   "execution_count": 10,
   "id": "015b6e74",
   "metadata": {
    "execution": {
     "iopub.execute_input": "2025-04-12T09:38:53.246671Z",
     "iopub.status.busy": "2025-04-12T09:38:53.246328Z",
     "iopub.status.idle": "2025-04-12T09:38:53.256089Z",
     "shell.execute_reply": "2025-04-12T09:38:53.255232Z"
    },
    "papermill": {
     "duration": 0.017369,
     "end_time": "2025-04-12T09:38:53.257582",
     "exception": false,
     "start_time": "2025-04-12T09:38:53.240213",
     "status": "completed"
    },
    "tags": []
   },
   "outputs": [],
   "source": [
    "class BigGANDeepLiteDiscriminator(nn.Module):\n",
    "    def __init__(self, num_classes=10, channels=64, use_augself=False, num_aug_types=4):\n",
    "        super(BigGANDeepLiteDiscriminator, self).__init__()\n",
    "        self.use_augself = use_augself\n",
    "\n",
    "        self.block1 = ResBlockD(3, channels, downsample=True)\n",
    "        self.block2 = ResBlockD(channels, channels * 2, downsample=True)\n",
    "        self.block3 = ResBlockD(channels * 2, channels * 4, downsample=True)\n",
    "        self.block4 = ResBlockD(channels * 4, channels * 8, downsample=True)\n",
    "        self.block5 = ResBlockD(channels * 8, channels * 16, downsample=False)\n",
    "\n",
    "        self.activation = nn.ReLU(inplace=False)\n",
    "        self.linear = spectral_norm(nn.Linear(channels * 16, 1))\n",
    "        self.embed = spectral_norm(nn.Embedding(num_classes, channels * 16))\n",
    "\n",
    "        # Augmentation classifier (only used if use_augself=True)\n",
    "        if self.use_augself:\n",
    "            self.aug_classifier = nn.Linear(channels * 16, num_aug_types)\n",
    "\n",
    "    def forward(self, x, y, return_aug_logits=False):\n",
    "        out = self.block1(x)\n",
    "        out = self.block2(out)\n",
    "        out = self.block3(out)\n",
    "        out = self.block4(out)\n",
    "        out = self.block5(out)\n",
    "\n",
    "        out = self.activation(out)\n",
    "        pooled = torch.sum(out, dim=(2, 3))  # Global sum pooling\n",
    "        out_linear = self.linear(pooled)\n",
    "\n",
    "        proj = torch.sum(pooled * self.embed(y), dim=1, keepdim=True)\n",
    "        output = out_linear + proj\n",
    "\n",
    "        if self.use_augself and return_aug_logits:\n",
    "            aug_logits = self.aug_classifier(pooled)\n",
    "            return output, aug_logits\n",
    "        return output\n"
   ]
  },
  {
   "cell_type": "code",
   "execution_count": 11,
   "id": "036f0cd3",
   "metadata": {
    "execution": {
     "iopub.execute_input": "2025-04-12T09:38:53.275113Z",
     "iopub.status.busy": "2025-04-12T09:38:53.274801Z",
     "iopub.status.idle": "2025-04-12T09:39:31.106821Z",
     "shell.execute_reply": "2025-04-12T09:39:31.106129Z"
    },
    "papermill": {
     "duration": 37.841611,
     "end_time": "2025-04-12T09:39:31.108341",
     "exception": false,
     "start_time": "2025-04-12T09:38:53.266730",
     "status": "completed"
    },
    "tags": []
   },
   "outputs": [
    {
     "name": "stdout",
     "output_type": "stream",
     "text": [
      "Downloading https://www.cs.toronto.edu/~kriz/cifar-10-python.tar.gz to /kaggle/working/cifar-10-python.tar.gz\n"
     ]
    },
    {
     "name": "stderr",
     "output_type": "stream",
     "text": [
      "100%|██████████| 170M/170M [00:16<00:00, 10.1MB/s]\n"
     ]
    },
    {
     "name": "stdout",
     "output_type": "stream",
     "text": [
      "Extracting /kaggle/working/cifar-10-python.tar.gz to /kaggle/working/\n",
      "Files already downloaded and verified\n",
      "Downloading https://www.cs.toronto.edu/~kriz/cifar-10-python.tar.gz to ./data/cifar-10-python.tar.gz\n"
     ]
    },
    {
     "name": "stderr",
     "output_type": "stream",
     "text": [
      "100%|██████████| 170M/170M [00:11<00:00, 14.6MB/s]\n"
     ]
    },
    {
     "name": "stdout",
     "output_type": "stream",
     "text": [
      "Extracting ./data/cifar-10-python.tar.gz to ./data\n",
      "Files already downloaded and verified\n"
     ]
    }
   ],
   "source": [
    "data_root = '/kaggle/working/'\n",
    "transform = transforms.Compose([\n",
    "    transforms.ToTensor(),\n",
    "    transforms.Normalize((0.5, 0.5, 0.5), (0.5, 0.5, 0.5))\n",
    "])\n",
    "train_dataset = torchvision.datasets.CIFAR10(root=data_root, train=True, download=True, transform=transform)\n",
    "test_dataset = torchvision.datasets.CIFAR10(root=data_root, train=False, download=True, transform=transform)\n",
    "def get_partial_cifar10(split='train', percentage=0.1, seed=42, transform=None):\n",
    "    # Load the full CIFAR-10 dataset\n",
    "    dataset = torchvision.datasets.CIFAR10(\n",
    "        root='./data',\n",
    "        train=(split=='train'),\n",
    "        transform=transform,\n",
    "        download=True\n",
    "    )\n",
    "\n",
    "    # Get class-wise indices\n",
    "    np.random.seed(seed)\n",
    "    targets = np.array(dataset.targets)\n",
    "    selected_indices = []\n",
    "\n",
    "    for cls in range(10):  # one for each class\n",
    "        cls_indices = np.where(targets == cls)[0]\n",
    "        num_samples = int(len(cls_indices) * percentage)\n",
    "        chosen = np.random.choice(cls_indices, num_samples, replace=False)\n",
    "        selected_indices.extend(chosen)\n",
    "\n",
    "    return Subset(dataset, selected_indices)\n",
    "train_dataset_10 = get_partial_cifar10(split='train', percentage=0.1, transform=transform)\n",
    "train_loader_10 = DataLoader(train_dataset_10, batch_size=128, shuffle=True,num_workers = 2)\n",
    "train_dataset_20 = get_partial_cifar10(split='train', percentage=0.2, transform=transform)\n",
    "train_loader_20 = DataLoader(train_dataset_10, batch_size=128, shuffle=True,num_workers = 2)"
   ]
  },
  {
   "cell_type": "code",
   "execution_count": 12,
   "id": "de663fcd",
   "metadata": {
    "execution": {
     "iopub.execute_input": "2025-04-12T09:39:31.137238Z",
     "iopub.status.busy": "2025-04-12T09:39:31.136985Z",
     "iopub.status.idle": "2025-04-12T09:39:31.140376Z",
     "shell.execute_reply": "2025-04-12T09:39:31.139746Z"
    },
    "papermill": {
     "duration": 0.018946,
     "end_time": "2025-04-12T09:39:31.141673",
     "exception": false,
     "start_time": "2025-04-12T09:39:31.122727",
     "status": "completed"
    },
    "tags": []
   },
   "outputs": [],
   "source": [
    "train_loader = DataLoader(\n",
    "    train_dataset,\n",
    "    batch_size=128,\n",
    "    shuffle=True,\n",
    "    pin_memory=True,\n",
    "    num_workers = 2# Optional: can help on GPU\n",
    ")"
   ]
  },
  {
   "cell_type": "code",
   "execution_count": 13,
   "id": "28617a8c",
   "metadata": {
    "execution": {
     "iopub.execute_input": "2025-04-12T09:39:31.170330Z",
     "iopub.status.busy": "2025-04-12T09:39:31.170067Z",
     "iopub.status.idle": "2025-04-12T09:39:32.379813Z",
     "shell.execute_reply": "2025-04-12T09:39:32.379081Z"
    },
    "papermill": {
     "duration": 1.225661,
     "end_time": "2025-04-12T09:39:32.381232",
     "exception": false,
     "start_time": "2025-04-12T09:39:31.155571",
     "status": "completed"
    },
    "tags": []
   },
   "outputs": [
    {
     "name": "stderr",
     "output_type": "stream",
     "text": [
      "\u001b[34m\u001b[1mwandb\u001b[0m: Currently logged in as: \u001b[33mhexager\u001b[0m. Use \u001b[1m`wandb login --relogin`\u001b[0m to force relogin\n",
      "\u001b[34m\u001b[1mwandb\u001b[0m: Tracking run with wandb version 0.19.1\n",
      "\u001b[34m\u001b[1mwandb\u001b[0m: Run data is saved locally in \u001b[35m\u001b[1m/kaggle/working/wandb/run-20250412_093931-j98d5p1z\u001b[0m\n",
      "\u001b[34m\u001b[1mwandb\u001b[0m: Run \u001b[1m`wandb offline`\u001b[0m to turn off syncing.\n",
      "\u001b[34m\u001b[1mwandb\u001b[0m: Syncing run \u001b[33mmajor-bird-15\u001b[0m\n",
      "\u001b[34m\u001b[1mwandb\u001b[0m: ⭐️ View project at \u001b[34m\u001b[4mhttps://wandb.ai/hexager-manipal/Big-Gan-similar\u001b[0m\n",
      "\u001b[34m\u001b[1mwandb\u001b[0m: 🚀 View run at \u001b[34m\u001b[4mhttps://wandb.ai/hexager-manipal/Big-Gan-similar/runs/j98d5p1z\u001b[0m\n"
     ]
    }
   ],
   "source": [
    "run = wandb.init(\n",
    "    entity=\"Hexager-manipal\",\n",
    "    # Set the wandb project where this run will be logged.\n",
    "    project=\"Big-Gan-similar\",\n",
    "    # Track hyperparameters and run metadata.\n",
    "    config={\n",
    "        \"learning_rate\": 2e-4,\n",
    "        \"architecture\": \"BIG-GAN-deep-lite-simplified w/o enhancements\",\n",
    "        \"dataset\": \"CIFAR-10\",\n",
    "        \"epochs\": 20\n",
    "    },\n",
    ")"
   ]
  },
  {
   "cell_type": "code",
   "execution_count": 14,
   "id": "e45206a4",
   "metadata": {
    "execution": {
     "iopub.execute_input": "2025-04-12T09:39:32.410403Z",
     "iopub.status.busy": "2025-04-12T09:39:32.410151Z",
     "iopub.status.idle": "2025-04-12T09:39:32.414961Z",
     "shell.execute_reply": "2025-04-12T09:39:32.414142Z"
    },
    "papermill": {
     "duration": 0.020658,
     "end_time": "2025-04-12T09:39:32.416269",
     "exception": false,
     "start_time": "2025-04-12T09:39:32.395611",
     "status": "completed"
    },
    "tags": []
   },
   "outputs": [],
   "source": [
    "AUG_TYPES = {\n",
    "    0: transforms.RandomRotation(degrees=15),\n",
    "    1: transforms.ColorJitter(0.4, 0.4, 0.4),\n",
    "    2: transforms.RandomHorizontalFlip(p=1.0),\n",
    "    3: transforms.RandomGrayscale(p=1.0)\n",
    "}\n",
    "NUM_AUGS = len(AUG_TYPES)\n",
    "\n",
    "def apply_aug_batch(batch, aug_labels):\n",
    "    # Apply the corresponding augmentation to each image\n",
    "    return torch.stack([AUG_TYPES[aug.item()](img.cpu()).to(img.device) for aug, img in zip(aug_labels, batch)])\n"
   ]
  },
  {
   "cell_type": "code",
   "execution_count": 15,
   "id": "19f9094f",
   "metadata": {
    "execution": {
     "iopub.execute_input": "2025-04-12T09:39:32.452916Z",
     "iopub.status.busy": "2025-04-12T09:39:32.452581Z",
     "iopub.status.idle": "2025-04-12T09:39:32.459496Z",
     "shell.execute_reply": "2025-04-12T09:39:32.456462Z"
    },
    "papermill": {
     "duration": 0.03185,
     "end_time": "2025-04-12T09:39:32.462201",
     "exception": false,
     "start_time": "2025-04-12T09:39:32.430351",
     "status": "completed"
    },
    "tags": []
   },
   "outputs": [],
   "source": [
    "class_names = ['airplane', 'automobile', 'bird', 'cat', 'deer','dog', 'frog', 'horse', 'ship', 'truck']"
   ]
  },
  {
   "cell_type": "code",
   "execution_count": 16,
   "id": "9e3ac556",
   "metadata": {
    "execution": {
     "iopub.execute_input": "2025-04-12T09:39:32.499476Z",
     "iopub.status.busy": "2025-04-12T09:39:32.499185Z",
     "iopub.status.idle": "2025-04-12T09:39:32.505330Z",
     "shell.execute_reply": "2025-04-12T09:39:32.504270Z"
    },
    "papermill": {
     "duration": 0.026646,
     "end_time": "2025-04-12T09:39:32.507370",
     "exception": false,
     "start_time": "2025-04-12T09:39:32.480724",
     "status": "completed"
    },
    "tags": []
   },
   "outputs": [],
   "source": [
    "def save_checkpoint(generator, discriminator, g_optimizer, d_optimizer,\n",
    "                    epoch, step,  path=\"checkpoints\", filename=\"last.pth\"):\n",
    "    os.makedirs(path, exist_ok=True)\n",
    "    \n",
    "    checkpoint = {\n",
    "        \"generator\": generator.state_dict(),\n",
    "        \"discriminator\": discriminator.state_dict(),\n",
    "        \"g_optimizer\": g_optimizer.state_dict(),\n",
    "        \"d_optimizer\": d_optimizer.state_dict(),\n",
    "        \"epoch\": epoch,\n",
    "        \"step\": step,\n",
    "        #\"best_fid\": best_fid,\n",
    "    }\n",
    "    \n",
    "    torch.save(checkpoint, os.path.join(path, filename))\n",
    "    #if is_best:\n",
    "        #torch.save(checkpoint, os.path.join(path, \"best.pth\"))\n",
    "\n",
    "\n",
    "def load_checkpoint(generator, discriminator, g_optimizer, d_optimizer, path=\"checkpoints/last.pth\"):\n",
    "    checkpoint = torch.load(path)\n",
    "    generator.load_state_dict(checkpoint[\"generator\"])\n",
    "    discriminator.load_state_dict(checkpoint[\"discriminator\"])\n",
    "    g_optimizer.load_state_dict(checkpoint[\"g_optimizer\"])\n",
    "    d_optimizer.load_state_dict(checkpoint[\"d_optimizer\"])\n",
    "    return checkpoint[\"epoch\"], checkpoint[\"step\"] #checkpoint[\"best_fid\"]"
   ]
  },
  {
   "cell_type": "code",
   "execution_count": 17,
   "id": "1b437445",
   "metadata": {
    "execution": {
     "iopub.execute_input": "2025-04-12T09:39:32.538274Z",
     "iopub.status.busy": "2025-04-12T09:39:32.537903Z",
     "iopub.status.idle": "2025-04-12T09:39:32.557507Z",
     "shell.execute_reply": "2025-04-12T09:39:32.556516Z"
    },
    "papermill": {
     "duration": 0.037148,
     "end_time": "2025-04-12T09:39:32.559414",
     "exception": false,
     "start_time": "2025-04-12T09:39:32.522266",
     "status": "completed"
    },
    "tags": []
   },
   "outputs": [],
   "source": [
    "import torch\n",
    "import torch.nn.functional as F\n",
    "from torchvision.utils import make_grid, save_image\n",
    "from tqdm import tqdm\n",
    "\n",
    "def hinge_discriminator_loss(D_real, D_fake):\n",
    "    return torch.mean(F.relu(1. - D_real)) + torch.mean(F.relu(1. + D_fake))\n",
    "\n",
    "def hinge_generator_loss(D_fake):\n",
    "    return -torch.mean(D_fake)\n",
    "\n",
    "def sample_latent(batch_size, z_dim, num_classes, device):\n",
    "    z = torch.randn(batch_size, z_dim, device=device)\n",
    "    y = torch.randint(0, num_classes, (batch_size,), device=device)\n",
    "    return z, y\n",
    "\n",
    "def train(\n",
    "    generator,\n",
    "    discriminator,\n",
    "    dataloader,\n",
    "    num_classes,\n",
    "    z_dim=128,\n",
    "    epochs=100,\n",
    "    lr_g=2e-4,\n",
    "    lr_d=2e-4,\n",
    "    device='cuda',\n",
    "    g_steps=1,\n",
    "    d_steps=1,\n",
    "    save_interval=5,\n",
    "    use_pseudo_aug=False,           # <— new flag\n",
    "    t_threshold=0.6,                # APA threshold\n",
    "    p_step=0.01,                    # APA step size\n",
    "    adjust_every=4,                  # APA adjust frequency\n",
    "    use_augself = True,  # 🔁 Set False to disable AugSelf\n",
    "    lambda_aug = 1.0  # Weight of the contrastive loss\n",
    "\n",
    "):\n",
    "    # — Pseudo‑Augmentation state —\n",
    "    pseudo_aug_prob = 0.0           # initial deception prob.\n",
    "    d_iter          = 0             # counter for D updates\n",
    "    generator = generator.to(device)\n",
    "    discriminator = discriminator.to(device)\n",
    "    opt_g = torch.optim.Adam(generator.parameters(), lr=lr_g, betas=(0.0, 0.999))\n",
    "    opt_d = torch.optim.Adam(discriminator.parameters(), lr=lr_d, betas=(0.0, 0.999))\n",
    "    step = 0\n",
    "\n",
    "    for epoch in range(epochs):\n",
    "        pbar = tqdm(dataloader, desc=f\"Epoch {epoch+1}/{epochs}\")\n",
    "        for real_imgs, labels in pbar:\n",
    "            real_imgs, labels = real_imgs.to(device), labels.to(device)\n",
    "            bs = real_imgs.size(0)\n",
    "\n",
    "            # — Train Discriminator —\n",
    "            for _ in range(d_steps):\n",
    "                # 1) generate fake and update buffer\n",
    "                z, y = sample_latent(bs, z_dim, num_classes, device)\n",
    "                fake_imgs = generator(z, y).detach()\n",
    "\n",
    "                # 2) mix pseudo into real (only if APA enabled)\n",
    "                if use_pseudo_aug and pseudo_aug_prob > 0 and epoch>4:\n",
    "                    mask = (torch.rand(bs,1,1,1,device=device) < pseudo_aug_prob).float()\n",
    "                    real_mixed = real_imgs * (1 - mask) + fake_imgs * mask\n",
    "                else:\n",
    "                    real_mixed = real_imgs\n",
    "                if use_augself:\n",
    "                    aug_labels = torch.randint(0, NUM_AUGS, (bs,), device=device)\n",
    "                    aug_imgs = apply_aug_batch(real_mixed, aug_labels)\n",
    "                    D_real_aug, aug_logits = discriminator(aug_imgs, labels, return_aug_logits=True)\n",
    "                    loss_aug = torch.clamp(F.cross_entropy(aug_logits, aug_labels), max=5.0)\n",
    "                else:\n",
    "                    loss_aug = torch.tensor(0.0, device=device)\n",
    "                # 3) forward\n",
    "                D_real = discriminator(real_mixed, labels, return_aug_logits=False)\n",
    "                D_fake = discriminator(fake_imgs, y, return_aug_logits=False)\n",
    "\n",
    "                loss_adv = hinge_discriminator_loss(D_real, D_fake)\n",
    "                loss_d = loss_adv + lambda_aug * loss_aug\n",
    "                # 4) backward + step\n",
    "                opt_d.zero_grad()\n",
    "                loss_d.backward()\n",
    "                opt_d.step()\n",
    "\n",
    "                # 5) adapt pseudo_aug_prob if APA enabled\n",
    "                if use_pseudo_aug and epoch>4:\n",
    "                    d_iter += 1\n",
    "                    if d_iter % adjust_every == 0:\n",
    "                        lambda_r = float(torch.mean(torch.sign(D_real)).item())\n",
    "                        if lambda_r > t_threshold:\n",
    "                            pseudo_aug_prob = min(pseudo_aug_prob + p_step, 1.0)\n",
    "                        else:\n",
    "                            pseudo_aug_prob = max(pseudo_aug_prob - p_step, 0.0)\n",
    "\n",
    "            # — Train Generator —\n",
    "            for _ in range(g_steps):\n",
    "                z, y = sample_latent(bs, z_dim, num_classes, device)\n",
    "                fake_imgs = generator(z, y)\n",
    "                D_fake = discriminator(fake_imgs, y)\n",
    "                loss_g = hinge_generator_loss(D_fake)\n",
    "\n",
    "                opt_g.zero_grad()\n",
    "                loss_g.backward()\n",
    "                opt_g.step()\n",
    "\n",
    "            # — Logging & checkpointing —\n",
    "            postfix = {\n",
    "                \"d_loss\": loss_d.item(),\n",
    "                \"g_loss\": loss_g.item(),\n",
    "            }\n",
    "            if use_pseudo_aug and epoch>4:\n",
    "                postfix[\"pseudo_aug_prob\"] = pseudo_aug_prob\n",
    "            pbar.set_postfix(postfix)\n",
    "            step += 1\n",
    "            if step % 50 == 0:\n",
    "                log_dict = {\n",
    "                    \"d_loss\": loss_d.item(),\n",
    "                    \"g_loss\": loss_g.item(),\n",
    "                    \"epoch\": epoch,\n",
    "                    \"step\": step\n",
    "                }\n",
    "                if use_pseudo_aug and epoch>4:\n",
    "                    log_dict[\"pseudo_aug_prob\"] = pseudo_aug_prob \n",
    "                if use_augself:\n",
    "                    log_dict[\"aug_loss\"] = loss_aug\n",
    "                wandb.log(log_dict)\n",
    "                \n",
    "\n",
    "        save_checkpoint(generator, discriminator, opt_g, opt_d, epoch, step)\n",
    "        # ------------------\n",
    "        # Save Images\n",
    "        # ------------------\n",
    "        if epoch % 5 == 0:\n",
    "            generator.eval()\n",
    "            with torch.no_grad():\n",
    "                z = torch.randn(64, z_dim, device=device)\n",
    "                labels = torch.randint(0, num_classes, (64,), device=device)\n",
    "                fakes = generator(z, labels)\n",
    "                grid = torchvision.utils.make_grid(fakes, nrow=8, normalize=True)\n",
    "                wandb.log({\"Generated Images\": [wandb.Image(grid, caption=f\"Epoch {epoch}\")]})\n",
    "            generator.train()\n",
    "\n"
   ]
  },
  {
   "cell_type": "code",
   "execution_count": 18,
   "id": "32d13048",
   "metadata": {
    "execution": {
     "iopub.execute_input": "2025-04-12T09:39:32.603963Z",
     "iopub.status.busy": "2025-04-12T09:39:32.603669Z",
     "iopub.status.idle": "2025-04-12T09:39:32.607179Z",
     "shell.execute_reply": "2025-04-12T09:39:32.606282Z"
    },
    "papermill": {
     "duration": 0.030763,
     "end_time": "2025-04-12T09:39:32.609195",
     "exception": false,
     "start_time": "2025-04-12T09:39:32.578432",
     "status": "completed"
    },
    "tags": []
   },
   "outputs": [],
   "source": [
    "use_augself = True"
   ]
  },
  {
   "cell_type": "code",
   "execution_count": 19,
   "id": "10cf512d",
   "metadata": {
    "execution": {
     "iopub.execute_input": "2025-04-12T09:39:32.647945Z",
     "iopub.status.busy": "2025-04-12T09:39:32.647607Z",
     "iopub.status.idle": "2025-04-12T09:39:32.912896Z",
     "shell.execute_reply": "2025-04-12T09:39:32.911938Z"
    },
    "papermill": {
     "duration": 0.282283,
     "end_time": "2025-04-12T09:39:32.914598",
     "exception": false,
     "start_time": "2025-04-12T09:39:32.632315",
     "status": "completed"
    },
    "tags": []
   },
   "outputs": [],
   "source": [
    "generator = BigGANDeepLiteGenerator(latent_dim=128, num_classes=10)\n",
    "discriminator = BigGANDeepLiteDiscriminator(num_classes=10, use_augself=use_augself)"
   ]
  },
  {
   "cell_type": "code",
   "execution_count": 20,
   "id": "b462e577",
   "metadata": {
    "execution": {
     "iopub.execute_input": "2025-04-12T09:39:32.943650Z",
     "iopub.status.busy": "2025-04-12T09:39:32.943316Z",
     "iopub.status.idle": "2025-04-12T11:30:43.005928Z",
     "shell.execute_reply": "2025-04-12T11:30:43.004714Z"
    },
    "papermill": {
     "duration": 6670.078761,
     "end_time": "2025-04-12T11:30:43.007719",
     "exception": false,
     "start_time": "2025-04-12T09:39:32.928958",
     "status": "completed"
    },
    "tags": []
   },
   "outputs": [
    {
     "name": "stderr",
     "output_type": "stream",
     "text": [
      "Epoch 1/50: 100%|██████████| 391/391 [02:15<00:00,  2.88it/s, d_loss=2.78, g_loss=0.0711]\n",
      "Epoch 2/50: 100%|██████████| 391/391 [02:13<00:00,  2.93it/s, d_loss=2.83, g_loss=0.164]\n",
      "Epoch 3/50: 100%|██████████| 391/391 [02:13<00:00,  2.94it/s, d_loss=2.79, g_loss=-0.0202]\n",
      "Epoch 4/50: 100%|██████████| 391/391 [02:13<00:00,  2.93it/s, d_loss=2.31, g_loss=0.244]\n",
      "Epoch 5/50: 100%|██████████| 391/391 [02:13<00:00,  2.93it/s, d_loss=2.44, g_loss=0.0163]\n",
      "Epoch 6/50: 100%|██████████| 391/391 [02:13<00:00,  2.94it/s, d_loss=2.35, g_loss=-0.00248, pseudo_aug_prob=0]\n",
      "Epoch 7/50: 100%|██████████| 391/391 [02:12<00:00,  2.94it/s, d_loss=2.47, g_loss=-0.171, pseudo_aug_prob=0]\n",
      "Epoch 8/50: 100%|██████████| 391/391 [02:13<00:00,  2.94it/s, d_loss=2.34, g_loss=0.0407, pseudo_aug_prob=0]\n",
      "Epoch 9/50: 100%|██████████| 391/391 [02:13<00:00,  2.94it/s, d_loss=2.23, g_loss=0.291, pseudo_aug_prob=0]\n",
      "Epoch 10/50: 100%|██████████| 391/391 [02:13<00:00,  2.93it/s, d_loss=2.38, g_loss=0.194, pseudo_aug_prob=0]\n",
      "Epoch 11/50: 100%|██████████| 391/391 [02:12<00:00,  2.94it/s, d_loss=2.45, g_loss=0.368, pseudo_aug_prob=0]\n",
      "Epoch 12/50: 100%|██████████| 391/391 [02:12<00:00,  2.94it/s, d_loss=2.44, g_loss=0.204, pseudo_aug_prob=0]\n",
      "Epoch 13/50: 100%|██████████| 391/391 [02:12<00:00,  2.96it/s, d_loss=2.27, g_loss=0.273, pseudo_aug_prob=0]\n",
      "Epoch 14/50: 100%|██████████| 391/391 [02:11<00:00,  2.97it/s, d_loss=2.43, g_loss=-0.25, pseudo_aug_prob=0]\n",
      "Epoch 15/50: 100%|██████████| 391/391 [02:12<00:00,  2.95it/s, d_loss=2.3, g_loss=0.148, pseudo_aug_prob=0]\n",
      "Epoch 16/50: 100%|██████████| 391/391 [02:11<00:00,  2.97it/s, d_loss=2.34, g_loss=0.116, pseudo_aug_prob=0]\n",
      "Epoch 17/50: 100%|██████████| 391/391 [02:11<00:00,  2.96it/s, d_loss=2.28, g_loss=0.338, pseudo_aug_prob=0]\n",
      "Epoch 18/50: 100%|██████████| 391/391 [02:12<00:00,  2.94it/s, d_loss=2.36, g_loss=0.407, pseudo_aug_prob=0]\n",
      "Epoch 19/50: 100%|██████████| 391/391 [02:12<00:00,  2.96it/s, d_loss=2.28, g_loss=0.0693, pseudo_aug_prob=0]\n",
      "Epoch 20/50: 100%|██████████| 391/391 [02:12<00:00,  2.96it/s, d_loss=2.15, g_loss=0.275, pseudo_aug_prob=0]\n",
      "Epoch 21/50: 100%|██████████| 391/391 [02:11<00:00,  2.96it/s, d_loss=2.14, g_loss=0.0958, pseudo_aug_prob=0]\n",
      "Epoch 22/50: 100%|██████████| 391/391 [02:11<00:00,  2.97it/s, d_loss=2.19, g_loss=0.162, pseudo_aug_prob=0]\n",
      "Epoch 23/50: 100%|██████████| 391/391 [02:11<00:00,  2.96it/s, d_loss=2.17, g_loss=0.448, pseudo_aug_prob=0]\n",
      "Epoch 24/50: 100%|██████████| 391/391 [02:12<00:00,  2.95it/s, d_loss=1.97, g_loss=0.461, pseudo_aug_prob=0]\n",
      "Epoch 25/50: 100%|██████████| 391/391 [02:12<00:00,  2.96it/s, d_loss=2.15, g_loss=-0.0338, pseudo_aug_prob=0]\n",
      "Epoch 26/50: 100%|██████████| 391/391 [02:12<00:00,  2.95it/s, d_loss=2.2, g_loss=0.165, pseudo_aug_prob=0]\n",
      "Epoch 27/50: 100%|██████████| 391/391 [02:13<00:00,  2.94it/s, d_loss=2.34, g_loss=0.128, pseudo_aug_prob=0]\n",
      "Epoch 28/50: 100%|██████████| 391/391 [02:12<00:00,  2.94it/s, d_loss=2.08, g_loss=0.462, pseudo_aug_prob=0]\n",
      "Epoch 29/50: 100%|██████████| 391/391 [02:12<00:00,  2.95it/s, d_loss=2.18, g_loss=0.071, pseudo_aug_prob=0]\n",
      "Epoch 30/50: 100%|██████████| 391/391 [02:12<00:00,  2.95it/s, d_loss=2.22, g_loss=0.286, pseudo_aug_prob=0]\n",
      "Epoch 31/50: 100%|██████████| 391/391 [02:12<00:00,  2.94it/s, d_loss=2.14, g_loss=0.472, pseudo_aug_prob=0]\n",
      "Epoch 32/50: 100%|██████████| 391/391 [02:12<00:00,  2.95it/s, d_loss=2.14, g_loss=0.54, pseudo_aug_prob=0]\n",
      "Epoch 33/50: 100%|██████████| 391/391 [02:12<00:00,  2.96it/s, d_loss=2.17, g_loss=0.221, pseudo_aug_prob=0]\n",
      "Epoch 34/50: 100%|██████████| 391/391 [02:12<00:00,  2.96it/s, d_loss=2.07, g_loss=0.0563, pseudo_aug_prob=0]\n",
      "Epoch 35/50: 100%|██████████| 391/391 [02:11<00:00,  2.97it/s, d_loss=2.23, g_loss=0.376, pseudo_aug_prob=0]\n",
      "Epoch 36/50: 100%|██████████| 391/391 [02:11<00:00,  2.97it/s, d_loss=2.14, g_loss=0.297, pseudo_aug_prob=0]\n",
      "Epoch 37/50: 100%|██████████| 391/391 [02:11<00:00,  2.97it/s, d_loss=2.06, g_loss=0.176, pseudo_aug_prob=0]\n",
      "Epoch 38/50: 100%|██████████| 391/391 [02:11<00:00,  2.97it/s, d_loss=2.09, g_loss=0.222, pseudo_aug_prob=0]\n",
      "Epoch 39/50: 100%|██████████| 391/391 [02:11<00:00,  2.97it/s, d_loss=2.09, g_loss=-0.0367, pseudo_aug_prob=0]\n",
      "Epoch 40/50: 100%|██████████| 391/391 [02:10<00:00,  2.99it/s, d_loss=2.21, g_loss=0.613, pseudo_aug_prob=0]\n",
      "Epoch 41/50: 100%|██████████| 391/391 [02:11<00:00,  2.98it/s, d_loss=2.11, g_loss=0.145, pseudo_aug_prob=0]\n",
      "Epoch 42/50: 100%|██████████| 391/391 [02:11<00:00,  2.97it/s, d_loss=2.18, g_loss=0.541, pseudo_aug_prob=0]\n",
      "Epoch 43/50: 100%|██████████| 391/391 [02:12<00:00,  2.96it/s, d_loss=2.21, g_loss=0.341, pseudo_aug_prob=0]\n",
      "Epoch 44/50: 100%|██████████| 391/391 [02:12<00:00,  2.94it/s, d_loss=2.32, g_loss=0.301, pseudo_aug_prob=0]\n",
      "Epoch 45/50: 100%|██████████| 391/391 [02:12<00:00,  2.95it/s, d_loss=2.17, g_loss=0.251, pseudo_aug_prob=0]\n",
      "Epoch 46/50: 100%|██████████| 391/391 [02:12<00:00,  2.96it/s, d_loss=2.05, g_loss=0.193, pseudo_aug_prob=0]\n",
      "Epoch 47/50: 100%|██████████| 391/391 [02:12<00:00,  2.96it/s, d_loss=2.16, g_loss=0.167, pseudo_aug_prob=0]\n",
      "Epoch 48/50: 100%|██████████| 391/391 [02:11<00:00,  2.96it/s, d_loss=2.16, g_loss=0.491, pseudo_aug_prob=0]\n",
      "Epoch 49/50: 100%|██████████| 391/391 [02:11<00:00,  2.97it/s, d_loss=2.13, g_loss=0.375, pseudo_aug_prob=0]\n",
      "Epoch 50/50: 100%|██████████| 391/391 [02:12<00:00,  2.95it/s, d_loss=2.08, g_loss=0.169, pseudo_aug_prob=0]\n"
     ]
    }
   ],
   "source": [
    "train(generator, discriminator, train_loader, num_classes=10, epochs=50, use_pseudo_aug=True, use_augself=use_augself)"
   ]
  },
  {
   "cell_type": "code",
   "execution_count": 21,
   "id": "59e21384",
   "metadata": {
    "execution": {
     "iopub.execute_input": "2025-04-12T11:30:46.914714Z",
     "iopub.status.busy": "2025-04-12T11:30:46.913895Z",
     "iopub.status.idle": "2025-04-12T11:30:49.958521Z",
     "shell.execute_reply": "2025-04-12T11:30:49.957715Z"
    },
    "papermill": {
     "duration": 4.956236,
     "end_time": "2025-04-12T11:30:49.959945",
     "exception": false,
     "start_time": "2025-04-12T11:30:45.003709",
     "status": "completed"
    },
    "tags": []
   },
   "outputs": [
    {
     "name": "stderr",
     "output_type": "stream",
     "text": [
      "\u001b[34m\u001b[1mwandb\u001b[0m: uploading wandb-summary.json; uploading config.yaml; uploading output.log\n",
      "\u001b[34m\u001b[1mwandb\u001b[0m:                                                                                \n",
      "\u001b[34m\u001b[1mwandb\u001b[0m: \n",
      "\u001b[34m\u001b[1mwandb\u001b[0m: Run history:\n",
      "\u001b[34m\u001b[1mwandb\u001b[0m:        aug_loss ▃▂▂▂▂▂▁▂▁▂▂▁▂▁▁▁▁▁▁▁▁▁▁▁▁▁▁▁▁▁▁▂▁██▁▁▁▁▁\n",
      "\u001b[34m\u001b[1mwandb\u001b[0m:          d_loss █▇▆▆▆▆▄▅▇▆▇▇▅▆▆▄▇▃▄▄▂▃▃▃▄▂▃▄▂▃▄▂▃▂▃▃▂▄▄▁\n",
      "\u001b[34m\u001b[1mwandb\u001b[0m:           epoch ▁▁▁▁▂▂▂▂▂▃▃▃▃▃▃▃▃▃▃▄▅▅▅▅▆▆▆▆▆▆▆▆▆▇▇█████\n",
      "\u001b[34m\u001b[1mwandb\u001b[0m:          g_loss ▆▂▆▄▃▁▄▁▇▅▅▅██▆▅▇▇▇▅▆▆▄▄▅▃▅▄▅▆▅▃▃▄▅▇▃▆▃▅\n",
      "\u001b[34m\u001b[1mwandb\u001b[0m: pseudo_aug_prob ▁▁█▁▁▁▁▁▁▁▁▁▁▁▁▁▁▁▁▁▁▁▁▁▁▁▁▁▁▁▁▁▁▁▁▁▁▁▁▁\n",
      "\u001b[34m\u001b[1mwandb\u001b[0m:            step ▁▂▂▂▂▂▃▃▃▃▃▃▃▃▄▄▄▄▄▄▅▅▅▅▅▅▆▆▆▆▆▆▆▇▇▇▇███\n",
      "\u001b[34m\u001b[1mwandb\u001b[0m: \n",
      "\u001b[34m\u001b[1mwandb\u001b[0m: Run summary:\n",
      "\u001b[34m\u001b[1mwandb\u001b[0m:        aug_loss 0.14028\n",
      "\u001b[34m\u001b[1mwandb\u001b[0m:          d_loss 2.08485\n",
      "\u001b[34m\u001b[1mwandb\u001b[0m:           epoch 49\n",
      "\u001b[34m\u001b[1mwandb\u001b[0m:          g_loss 0.1692\n",
      "\u001b[34m\u001b[1mwandb\u001b[0m: pseudo_aug_prob 0\n",
      "\u001b[34m\u001b[1mwandb\u001b[0m:            step 19550\n",
      "\u001b[34m\u001b[1mwandb\u001b[0m: \n",
      "\u001b[34m\u001b[1mwandb\u001b[0m: 🚀 View run \u001b[33mmajor-bird-15\u001b[0m at: \u001b[34m\u001b[4mhttps://wandb.ai/hexager-manipal/Big-Gan-similar/runs/j98d5p1z\u001b[0m\n",
      "\u001b[34m\u001b[1mwandb\u001b[0m: ⭐️ View project at: \u001b[34m\u001b[4mhttps://wandb.ai/hexager-manipal/Big-Gan-similar\u001b[0m\n",
      "\u001b[34m\u001b[1mwandb\u001b[0m: Synced 5 W&B file(s), 0 media file(s), 0 artifact file(s) and 10 other file(s)\n",
      "\u001b[34m\u001b[1mwandb\u001b[0m: Find logs at: \u001b[35m\u001b[1m./wandb/run-20250412_093931-j98d5p1z/logs\u001b[0m\n"
     ]
    }
   ],
   "source": [
    "run.finish()"
   ]
  },
  {
   "cell_type": "code",
   "execution_count": 22,
   "id": "2dc6c329",
   "metadata": {
    "execution": {
     "iopub.execute_input": "2025-04-12T11:30:53.787575Z",
     "iopub.status.busy": "2025-04-12T11:30:53.787266Z",
     "iopub.status.idle": "2025-04-12T11:30:54.025280Z",
     "shell.execute_reply": "2025-04-12T11:30:54.024413Z"
    },
    "papermill": {
     "duration": 2.165025,
     "end_time": "2025-04-12T11:30:54.026522",
     "exception": false,
     "start_time": "2025-04-12T11:30:51.861497",
     "status": "completed"
    },
    "tags": []
   },
   "outputs": [],
   "source": [
    "import gc\n",
    "gc.collect()\n",
    "torch.cuda.empty_cache()\n"
   ]
  },
  {
   "cell_type": "code",
   "execution_count": 23,
   "id": "d1680fb5",
   "metadata": {
    "execution": {
     "iopub.execute_input": "2025-04-12T11:30:57.835013Z",
     "iopub.status.busy": "2025-04-12T11:30:57.834730Z",
     "iopub.status.idle": "2025-04-12T11:30:58.280881Z",
     "shell.execute_reply": "2025-04-12T11:30:58.280121Z"
    },
    "papermill": {
     "duration": 2.349636,
     "end_time": "2025-04-12T11:30:58.282092",
     "exception": false,
     "start_time": "2025-04-12T11:30:55.932456",
     "status": "completed"
    },
    "tags": []
   },
   "outputs": [
    {
     "name": "stderr",
     "output_type": "stream",
     "text": [
      "<ipython-input-23-dbf31fc063fc>:2: FutureWarning: You are using `torch.load` with `weights_only=False` (the current default value), which uses the default pickle module implicitly. It is possible to construct malicious pickle data which will execute arbitrary code during unpickling (See https://github.com/pytorch/pytorch/blob/main/SECURITY.md#untrusted-models for more details). In a future release, the default value for `weights_only` will be flipped to `True`. This limits the functions that could be executed during unpickling. Arbitrary objects will no longer be allowed to be loaded via this mode unless they are explicitly allowlisted by the user via `torch.serialization.add_safe_globals`. We recommend you start setting `weights_only=True` for any use case where you don't have full control of the loaded file. Please open an issue on GitHub for any issues related to this experimental feature.\n",
      "  generator.load_state_dict(torch.load(\"/kaggle/working/checkpoints/last.pth\")[\"generator\"])\n"
     ]
    },
    {
     "data": {
      "text/plain": [
       "<All keys matched successfully>"
      ]
     },
     "execution_count": 23,
     "metadata": {},
     "output_type": "execute_result"
    }
   ],
   "source": [
    "generator = BigGANDeepLiteGenerator(latent_dim=128, num_classes=10)\n",
    "generator.load_state_dict(torch.load(\"/kaggle/working/checkpoints/last.pth\")[\"generator\"])\n"
   ]
  },
  {
   "cell_type": "code",
   "execution_count": 24,
   "id": "057b2572",
   "metadata": {
    "execution": {
     "iopub.execute_input": "2025-04-12T11:31:02.068943Z",
     "iopub.status.busy": "2025-04-12T11:31:02.068513Z",
     "iopub.status.idle": "2025-04-12T11:31:05.693045Z",
     "shell.execute_reply": "2025-04-12T11:31:05.692303Z"
    },
    "papermill": {
     "duration": 5.507955,
     "end_time": "2025-04-12T11:31:05.694526",
     "exception": false,
     "start_time": "2025-04-12T11:31:00.186571",
     "status": "completed"
    },
    "tags": []
   },
   "outputs": [
    {
     "name": "stdout",
     "output_type": "stream",
     "text": [
      "Files already downloaded and verified\n"
     ]
    }
   ],
   "source": [
    "from torchvision.datasets import CIFAR10\n",
    "from torchvision import transforms\n",
    "import torch\n",
    "\n",
    "transform = transforms.Compose([\n",
    "    transforms.ToTensor(),                   # [0,1]\n",
    "    transforms.Normalize((0.5, 0.5, 0.5),     # back to [-1, 1]\n",
    "                         (0.5, 0.5, 0.5))\n",
    "])\n",
    "\n",
    "real_dataset = CIFAR10(root=\"./data\", train=True, transform=transform, download=True)\n",
    "real_images = torch.stack([real_dataset[i][0] for i in range(5000)])  # shape: [5000, 3, 32, 32]\n",
    "generator.eval().to(\"cuda\")\n",
    "latent_dim = 128\n",
    "num_classes = 10\n",
    "batch_size = 64\n",
    "fakes = []\n",
    "\n",
    "with torch.no_grad():\n",
    "    for _ in range(5000 // batch_size):\n",
    "        z = torch.randn(batch_size, latent_dim).to(\"cuda\")\n",
    "        y = torch.randint(0, num_classes, (batch_size,), device=\"cuda\")\n",
    "        out = generator(z, y)\n",
    "        fakes.append(out.cpu())  # offload to CPU to save VRAM\n",
    "\n",
    "fakes_tensor = torch.cat(fakes, dim=0)  # [5000, 3, 32, 32]\n",
    "\n",
    "def denorm(x):\n",
    "    return (x * 0.5 + 0.5).clamp(0, 1)\n",
    "\n",
    "real_images = denorm(real_images)\n",
    "fakes_tensor = denorm(fakes_tensor)"
   ]
  },
  {
   "cell_type": "code",
   "execution_count": 25,
   "id": "70022afe",
   "metadata": {
    "execution": {
     "iopub.execute_input": "2025-04-12T11:31:09.562159Z",
     "iopub.status.busy": "2025-04-12T11:31:09.561876Z",
     "iopub.status.idle": "2025-04-12T11:31:42.448671Z",
     "shell.execute_reply": "2025-04-12T11:31:42.447705Z"
    },
    "papermill": {
     "duration": 36.717044,
     "end_time": "2025-04-12T11:31:44.383727",
     "exception": false,
     "start_time": "2025-04-12T11:31:07.666683",
     "status": "completed"
    },
    "tags": []
   },
   "outputs": [
    {
     "name": "stderr",
     "output_type": "stream",
     "text": [
      "Downloading: \"https://github.com/toshas/torch-fidelity/releases/download/v0.2.0/weights-inception-2015-12-05-6726825d.pth\" to /root/.cache/torch/hub/checkpoints/weights-inception-2015-12-05-6726825d.pth\n",
      "100%|██████████| 91.2M/91.2M [00:02<00:00, 39.1MB/s]\n"
     ]
    },
    {
     "name": "stdout",
     "output_type": "stream",
     "text": [
      "✅ Final FID Score: 104.02\n"
     ]
    }
   ],
   "source": [
    "from torchmetrics.image.fid import FrechetInceptionDistance\n",
    "\n",
    "fid = FrechetInceptionDistance(feature=2048, normalize=True).to(\"cuda\")\n",
    "\n",
    "# Feed real images\n",
    "for i in range(0, 10000, batch_size):\n",
    "    real_batch = real_images[i:i+batch_size].to(\"cuda\")\n",
    "    if real_batch.size(0) == 0:\n",
    "        continue\n",
    "    fid.update(real_batch, real=True)\n",
    "\n",
    "# Feed fake images\n",
    "for i in range(0, fakes_tensor.size(0), batch_size):\n",
    "    fake_batch = fakes_tensor[i:i+batch_size]\n",
    "    if fake_batch.size(0) == 0:\n",
    "        continue  # skip empty batches just in case\n",
    "    fid.update(fake_batch.to(\"cuda\"), real=False)\n",
    "\n",
    "\n",
    "# Compute score\n",
    "score = fid.compute().item()\n",
    "print(f\"✅ Final FID Score: {score:.2f}\")\n"
   ]
  },
  {
   "cell_type": "code",
   "execution_count": 26,
   "id": "e3c474bd",
   "metadata": {
    "execution": {
     "iopub.execute_input": "2025-04-12T11:31:48.242563Z",
     "iopub.status.busy": "2025-04-12T11:31:48.242035Z",
     "iopub.status.idle": "2025-04-12T11:31:59.231823Z",
     "shell.execute_reply": "2025-04-12T11:31:59.230833Z"
    },
    "papermill": {
     "duration": 12.968437,
     "end_time": "2025-04-12T11:31:59.233141",
     "exception": false,
     "start_time": "2025-04-12T11:31:46.264704",
     "status": "completed"
    },
    "tags": []
   },
   "outputs": [
    {
     "name": "stderr",
     "output_type": "stream",
     "text": [
      "/usr/local/lib/python3.10/dist-packages/torchmetrics/utilities/prints.py:43: UserWarning: Metric `InceptionScore` will save all extracted features in buffer. For large datasets this may lead to large memory footprint.\n",
      "  warnings.warn(*args, **kwargs)  # noqa: B028\n"
     ]
    },
    {
     "name": "stdout",
     "output_type": "stream",
     "text": [
      "✅ Inception Score: 4.92 ± 0.13\n"
     ]
    }
   ],
   "source": [
    "from torchmetrics.image.inception import InceptionScore\n",
    "\n",
    "# Normalize fake images to [0, 1] if not already\n",
    "fake_imgs = fakes_tensor.clone()  # shape: [5000, 3, 32, 32]\n",
    "fake_imgs = fake_imgs.clamp(0, 1)\n",
    "\n",
    "# Create IS object\n",
    "is_metric = InceptionScore(normalize=True, splits=10).to(\"cuda\")\n",
    "\n",
    "# Feed fake images in batches\n",
    "batch_size = 64\n",
    "for i in range(0, fake_imgs.size(0), batch_size):\n",
    "    batch = fake_imgs[i:i+batch_size]\n",
    "    if batch.size(0) == 0:\n",
    "        continue\n",
    "    is_metric.update(batch.to(\"cuda\"))\n",
    "\n",
    "# Compute IS\n",
    "score, std = is_metric.compute()\n",
    "print(f\"✅ Inception Score: {score:.2f} ± {std:.2f}\")"
   ]
  }
 ],
 "metadata": {
  "kaggle": {
   "accelerator": "gpu",
   "dataSources": [
    {
     "modelId": 299505,
     "modelInstanceId": 278601,
     "sourceId": 332363,
     "sourceType": "modelInstanceVersion"
    }
   ],
   "dockerImageVersionId": 30919,
   "isGpuEnabled": true,
   "isInternetEnabled": true,
   "language": "python",
   "sourceType": "notebook"
  },
  "kernelspec": {
   "display_name": "Python 3",
   "language": "python",
   "name": "python3"
  },
  "language_info": {
   "codemirror_mode": {
    "name": "ipython",
    "version": 3
   },
   "file_extension": ".py",
   "mimetype": "text/x-python",
   "name": "python",
   "nbconvert_exporter": "python",
   "pygments_lexer": "ipython3",
   "version": "3.10.12"
  },
  "papermill": {
   "default_parameters": {},
   "duration": 6808.398202,
   "end_time": "2025-04-12T11:32:03.156645",
   "environment_variables": {},
   "exception": null,
   "input_path": "__notebook__.ipynb",
   "output_path": "__notebook__.ipynb",
   "parameters": {},
   "start_time": "2025-04-12T09:38:34.758443",
   "version": "2.6.0"
  }
 },
 "nbformat": 4,
 "nbformat_minor": 5
}
